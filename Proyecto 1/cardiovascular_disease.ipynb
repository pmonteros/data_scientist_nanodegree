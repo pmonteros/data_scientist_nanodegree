{
 "cells": [
  {
   "cell_type": "markdown",
   "metadata": {},
   "source": [
    "# Import library"
   ]
  },
  {
   "cell_type": "code",
   "execution_count": 1,
   "metadata": {},
   "outputs": [],
   "source": [
    "import numpy as np\n",
    "import pandas as pd\n",
    "import matplotlib.pylab as plt"
   ]
  },
  {
   "cell_type": "markdown",
   "metadata": {},
   "source": [
    "# Dataset"
   ]
  },
  {
   "cell_type": "code",
   "execution_count": 44,
   "metadata": {},
   "outputs": [],
   "source": [
    "df = pd.read_csv('C:/Users/pablo/Desktop/Cursos/data_scientist_nanodegree/data/heart_2020_cleaned.csv')\n",
    "df_features = df.drop('HeartDisease', axis = 1)\n",
    "df_target = df['HeartDisease']"
   ]
  },
  {
   "cell_type": "markdown",
   "metadata": {},
   "source": [
    "## General information"
   ]
  },
  {
   "cell_type": "code",
   "execution_count": 88,
   "metadata": {},
   "outputs": [
    {
     "name": "stdout",
     "output_type": "stream",
     "text": [
      "List of columns: ['HeartDisease', 'BMI', 'Smoking', 'AlcoholDrinking', 'Stroke', 'PhysicalHealth', 'MentalHealth', 'DiffWalking', 'Sex', 'AgeCategory', 'Race', 'Diabetic', 'PhysicalActivity', 'GenHealth', 'SleepTime', 'Asthma', 'KidneyDisease', 'SkinCancer']\n",
      "\n",
      "319795 Rows x 18 columns\n",
      "\n",
      "Number of missing values for column: HeartDisease        0\n",
      "BMI                 0\n",
      "Smoking             0\n",
      "AlcoholDrinking     0\n",
      "Stroke              0\n",
      "PhysicalHealth      0\n",
      "MentalHealth        0\n",
      "DiffWalking         0\n",
      "Sex                 0\n",
      "AgeCategory         0\n",
      "Race                0\n",
      "Diabetic            0\n",
      "PhysicalActivity    0\n",
      "GenHealth           0\n",
      "SleepTime           0\n",
      "Asthma              0\n",
      "KidneyDisease       0\n",
      "SkinCancer          0\n",
      "dtype: int64\n"
     ]
    }
   ],
   "source": [
    "column_names = list(df.columns)\n",
    "\n",
    "num_rows = df.shape[0]\n",
    "num_cols = df.shape[1]\n",
    "\n",
    "missing_values = df.isnull()\n",
    "num_missing_values = missing_values.sum()\n",
    "\n",
    "print('List of columns:', column_names)\n",
    "print()\n",
    "print('{} Rows x {} columns'.format(num_rows, num_cols))\n",
    "print()\n",
    "print('Number of missing values per column:', num_missing_values)"
   ]
  },
  {
   "cell_type": "markdown",
   "metadata": {},
   "source": [
    "## Additional Information"
   ]
  },
  {
   "cell_type": "code",
   "execution_count": 66,
   "metadata": {},
   "outputs": [
    {
     "name": "stdout",
     "output_type": "stream",
     "text": [
      "<class 'pandas.core.frame.DataFrame'>\n",
      "RangeIndex: 319795 entries, 0 to 319794\n",
      "Data columns (total 18 columns):\n",
      " #   Column            Non-Null Count   Dtype  \n",
      "---  ------            --------------   -----  \n",
      " 0   HeartDisease      319795 non-null  object \n",
      " 1   BMI               319795 non-null  float64\n",
      " 2   Smoking           319795 non-null  object \n",
      " 3   AlcoholDrinking   319795 non-null  object \n",
      " 4   Stroke            319795 non-null  object \n",
      " 5   PhysicalHealth    319795 non-null  float64\n",
      " 6   MentalHealth      319795 non-null  float64\n",
      " 7   DiffWalking       319795 non-null  object \n",
      " 8   Sex               319795 non-null  object \n",
      " 9   AgeCategory       319795 non-null  object \n",
      " 10  Race              319795 non-null  object \n",
      " 11  Diabetic          319795 non-null  object \n",
      " 12  PhysicalActivity  319795 non-null  object \n",
      " 13  GenHealth         319795 non-null  object \n",
      " 14  SleepTime         319795 non-null  float64\n",
      " 15  Asthma            319795 non-null  object \n",
      " 16  KidneyDisease     319795 non-null  object \n",
      " 17  SkinCancer        319795 non-null  object \n",
      "dtypes: float64(4), object(14)\n",
      "memory usage: 43.9+ MB\n"
     ]
    },
    {
     "data": {
      "text/html": [
       "<div>\n",
       "<style scoped>\n",
       "    .dataframe tbody tr th:only-of-type {\n",
       "        vertical-align: middle;\n",
       "    }\n",
       "\n",
       "    .dataframe tbody tr th {\n",
       "        vertical-align: top;\n",
       "    }\n",
       "\n",
       "    .dataframe thead th {\n",
       "        text-align: right;\n",
       "    }\n",
       "</style>\n",
       "<table border=\"1\" class=\"dataframe\">\n",
       "  <thead>\n",
       "    <tr style=\"text-align: right;\">\n",
       "      <th></th>\n",
       "      <th>BMI</th>\n",
       "      <th>PhysicalHealth</th>\n",
       "      <th>MentalHealth</th>\n",
       "      <th>SleepTime</th>\n",
       "    </tr>\n",
       "  </thead>\n",
       "  <tbody>\n",
       "    <tr>\n",
       "      <th>count</th>\n",
       "      <td>319795.000000</td>\n",
       "      <td>319795.00000</td>\n",
       "      <td>319795.000000</td>\n",
       "      <td>319795.000000</td>\n",
       "    </tr>\n",
       "    <tr>\n",
       "      <th>mean</th>\n",
       "      <td>28.325399</td>\n",
       "      <td>3.37171</td>\n",
       "      <td>3.898366</td>\n",
       "      <td>7.097075</td>\n",
       "    </tr>\n",
       "    <tr>\n",
       "      <th>std</th>\n",
       "      <td>6.356100</td>\n",
       "      <td>7.95085</td>\n",
       "      <td>7.955235</td>\n",
       "      <td>1.436007</td>\n",
       "    </tr>\n",
       "    <tr>\n",
       "      <th>min</th>\n",
       "      <td>12.020000</td>\n",
       "      <td>0.00000</td>\n",
       "      <td>0.000000</td>\n",
       "      <td>1.000000</td>\n",
       "    </tr>\n",
       "    <tr>\n",
       "      <th>25%</th>\n",
       "      <td>24.030000</td>\n",
       "      <td>0.00000</td>\n",
       "      <td>0.000000</td>\n",
       "      <td>6.000000</td>\n",
       "    </tr>\n",
       "    <tr>\n",
       "      <th>50%</th>\n",
       "      <td>27.340000</td>\n",
       "      <td>0.00000</td>\n",
       "      <td>0.000000</td>\n",
       "      <td>7.000000</td>\n",
       "    </tr>\n",
       "    <tr>\n",
       "      <th>75%</th>\n",
       "      <td>31.420000</td>\n",
       "      <td>2.00000</td>\n",
       "      <td>3.000000</td>\n",
       "      <td>8.000000</td>\n",
       "    </tr>\n",
       "    <tr>\n",
       "      <th>max</th>\n",
       "      <td>94.850000</td>\n",
       "      <td>30.00000</td>\n",
       "      <td>30.000000</td>\n",
       "      <td>24.000000</td>\n",
       "    </tr>\n",
       "  </tbody>\n",
       "</table>\n",
       "</div>"
      ],
      "text/plain": [
       "                 BMI  PhysicalHealth   MentalHealth      SleepTime\n",
       "count  319795.000000    319795.00000  319795.000000  319795.000000\n",
       "mean       28.325399         3.37171       3.898366       7.097075\n",
       "std         6.356100         7.95085       7.955235       1.436007\n",
       "min        12.020000         0.00000       0.000000       1.000000\n",
       "25%        24.030000         0.00000       0.000000       6.000000\n",
       "50%        27.340000         0.00000       0.000000       7.000000\n",
       "75%        31.420000         2.00000       3.000000       8.000000\n",
       "max        94.850000        30.00000      30.000000      24.000000"
      ]
     },
     "execution_count": 66,
     "metadata": {},
     "output_type": "execute_result"
    }
   ],
   "source": [
    "#if we wanted to obtain more information, we could consult the info and describe commands\n",
    "df.info()\n",
    "df.describe()"
   ]
  },
  {
   "cell_type": "markdown",
   "metadata": {},
   "source": [
    "# Limpiar datos"
   ]
  },
  {
   "cell_type": "code",
   "execution_count": 134,
   "metadata": {},
   "outputs": [
    {
     "name": "stdout",
     "output_type": "stream",
     "text": [
      "number of duplicate rows:  18078\n",
      "number of nans rows:  0\n"
     ]
    }
   ],
   "source": [
    "print('number of duplicate rows: ', df.shape[0] - df.drop_duplicates().shape[0])\n",
    "print('number of nans rows: ', df.shape[0] - df.dropna().shape[0])\n",
    "\n",
    "df = df.drop_duplicates()"
   ]
  },
  {
   "cell_type": "markdown",
   "metadata": {},
   "source": [
    "# Analysis"
   ]
  },
  {
   "cell_type": "markdown",
   "metadata": {},
   "source": [
    "## Habits"
   ]
  },
  {
   "cell_type": "code",
   "execution_count": 135,
   "metadata": {},
   "outputs": [],
   "source": [
    "df_habits = df[['Smoking','AlcoholDrinking','PhysicalActivity','SleepTime','HeartDisease']]"
   ]
  },
  {
   "cell_type": "code",
   "execution_count": 136,
   "metadata": {},
   "outputs": [
    {
     "name": "stdout",
     "output_type": "stream",
     "text": [
      "With Heart Disease\n",
      "Yes 0.586075345731998 %\n",
      "No 0.4139246542680019 %\n",
      "Without Heart Disease\n",
      "Yes 0.4059958609030227 %\n",
      "No 0.5940041390969772 %\n"
     ]
    }
   ],
   "source": [
    "df_with_heartdisase = df_habits['HeartDisease']=='Yes'\n",
    "df_without_heartdisease = df_habits['HeartDisease']=='No'\n",
    "\n",
    "print('With Heart Disease')\n",
    "print('Yes',(df_habits[df_with_heartdisase]['Smoking']=='Yes').sum()/(df_with_heartdisase).sum(), '%')\n",
    "print('No',(df_habits[df_with_heartdisase]['Smoking']=='No').sum()/(df_with_heartdisase).sum(), '%')\n",
    "\n",
    "print('Without Heart Disease')\n",
    "print('Yes',(df_habits[df_without_heartdisease]['Smoking']=='Yes').sum()/(df_without_heartdisease).sum(), '%')\n",
    "print('No',(df_habits[df_without_heartdisease]['Smoking']=='No').sum()/(df_without_heartdisease).sum(), '%')"
   ]
  },
  {
   "cell_type": "code",
   "execution_count": 137,
   "metadata": {},
   "outputs": [
    {
     "name": "stdout",
     "output_type": "stream",
     "text": [
      "With Heart Disease\n",
      "Yes 0.6375041267745131 %\n",
      "No 0.362495873225487 %\n",
      "Without Heart Disease\n",
      "Yes 0.7762009210948203 %\n",
      "No 0.2237990789051797 %\n"
     ]
    }
   ],
   "source": [
    "df_with_heartdisase = df_habits['HeartDisease']=='Yes'\n",
    "df_without_heartdisease = df_habits['HeartDisease']=='No'\n",
    "\n",
    "print('With Heart Disease')\n",
    "print('Yes',(df_habits[df_with_heartdisase]['PhysicalActivity']=='Yes').sum()/(df_with_heartdisase).sum(), '%')\n",
    "print('No',(df_habits[df_with_heartdisase]['PhysicalActivity']=='No').sum()/(df_with_heartdisase).sum(), '%')\n",
    "\n",
    "print('Without Heart Disease')\n",
    "print('Yes',(df_habits[df_without_heartdisease]['PhysicalActivity']=='Yes').sum()/(df_without_heartdisease).sum(), '%')\n",
    "print('No',(df_habits[df_without_heartdisease]['PhysicalActivity']=='No').sum()/(df_without_heartdisease).sum(), '%')"
   ]
  },
  {
   "cell_type": "code",
   "execution_count": 143,
   "metadata": {},
   "outputs": [
    {
     "name": "stdout",
     "output_type": "stream",
     "text": [
      "With Heart Disease\n",
      "More 8 hours 0.8626242617658927 %\n",
      "Less 8 hours 0.13737573823410734 %\n",
      "Without Heart Disease\n",
      "More 8 hours 0.9037477774215175 %\n",
      "Less 8 hours 0.09625222257848252 %\n"
     ]
    }
   ],
   "source": [
    "df_with_heartdisase = df_habits['HeartDisease']=='Yes'\n",
    "df_without_heartdisease = df_habits['HeartDisease']=='No'\n",
    "\n",
    "print('With Heart Disease')\n",
    "print('More 8 hours',(df_habits[df_with_heartdisase]['SleepTime']>=6.0).sum()/(df_with_heartdisase).sum(), '%')\n",
    "print('Less 8 hours',(df_habits[df_with_heartdisase]['SleepTime']<6.0).sum()/(df_with_heartdisase).sum(), '%')\n",
    "\n",
    "print('Without Heart Disease')\n",
    "print('More 8 hours',(df_habits[df_without_heartdisease]['SleepTime']>=6.0).sum()/(df_without_heartdisease).sum(), '%')\n",
    "print('Less 8 hours',(df_habits[df_without_heartdisease]['SleepTime']<6.0).sum()/(df_without_heartdisease).sum(), '%')"
   ]
  },
  {
   "cell_type": "code",
   "execution_count": null,
   "metadata": {},
   "outputs": [],
   "source": [
    "df_with_heartdisase = df_habits['HeartDisease']=='Yes'\n",
    "df_without_heartdisease = df_habits['HeartDisease']=='No'\n",
    "\n",
    "print('With Heart Disease')\n",
    "print('Yes',(df_habits[df_with_heartdisase]['AlcoholDrinking']=='Yes').sum()/(df_with_heartdisase).sum(), '%')\n",
    "print('No',(df_habits[df_with_heartdisase]['AlcoholDrinking']=='No').sum()/(df_with_heartdisase).sum(), '%')\n",
    "\n",
    "print('Without Heart Disease')\n",
    "print('Yes',(df_habits[df_without_heartdisease]['AlcoholDrinking']=='Yes').sum()/(df_without_heartdisease).sum(), '%')\n",
    "print('No',(df_habits[df_without_heartdisease]['AlcoholDrinking']=='No').sum()/(df_without_heartdisease).sum(), '%')"
   ]
  },
  {
   "cell_type": "markdown",
   "metadata": {},
   "source": [
    "## Personal Data"
   ]
  },
  {
   "cell_type": "code",
   "execution_count": 176,
   "metadata": {},
   "outputs": [
    {
     "name": "stdout",
     "output_type": "stream",
     "text": [
      "Female\n",
      "Yes 0.07022565149588841\n",
      "No 0.9297743485041116\n",
      "Male\n",
      "Yes 0.11297748616645312\n",
      "No 0.8870225138335469\n"
     ]
    }
   ],
   "source": [
    "df_personal = df[['Sex','AgeCategory', 'HeartDisease']]\n",
    "df_female = df[df['Sex']=='Female']\n",
    "df_male = df[df['Sex']=='Male']\n",
    "\n",
    "df_female_with_heartdisase = df_female['HeartDisease']=='Yes'\n",
    "df_female_without_heartdisease = df_female['HeartDisease']=='No'\n",
    "\n",
    "df_male_with_heartdisase = df_male['HeartDisease']=='Yes'\n",
    "df_male_without_heartdisease = df_male['HeartDisease']=='No'\n",
    "\n",
    "\n",
    "print('Female')\n",
    "print('Yes', len(df_female[df_female_with_heartdisase])/len(df_female))\n",
    "print('No',len(df_female[df_female_without_heartdisease])/len(df_female))\n",
    "\n",
    "print('Male')\n",
    "print('Yes',len(df_male[df_male_with_heartdisase])/len(df_male))\n",
    "print('No',len(df_male[df_male_without_heartdisease])/len(df_male))"
   ]
  },
  {
   "cell_type": "code",
   "execution_count": 153,
   "metadata": {},
   "outputs": [
    {
     "data": {
      "text/plain": [
       "array(['Female', 'Male'], dtype=object)"
      ]
     },
     "execution_count": 153,
     "metadata": {},
     "output_type": "execute_result"
    }
   ],
   "source": [
    "df[df_personal['Sex']=='Female']]"
   ]
  },
  {
   "cell_type": "code",
   "execution_count": null,
   "metadata": {},
   "outputs": [],
   "source": []
  }
 ],
 "metadata": {
  "kernelspec": {
   "display_name": "base",
   "language": "python",
   "name": "python3"
  },
  "language_info": {
   "codemirror_mode": {
    "name": "ipython",
    "version": 3
   },
   "file_extension": ".py",
   "mimetype": "text/x-python",
   "name": "python",
   "nbconvert_exporter": "python",
   "pygments_lexer": "ipython3",
   "version": "3.8.8"
  },
  "orig_nbformat": 4
 },
 "nbformat": 4,
 "nbformat_minor": 2
}
